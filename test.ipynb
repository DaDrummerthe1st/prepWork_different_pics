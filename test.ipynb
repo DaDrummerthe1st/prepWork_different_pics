{
 "cells": [
  {
   "cell_type": "code",
   "execution_count": 3,
   "metadata": {},
   "outputs": [
    {
     "name": "stdout",
     "output_type": "stream",
     "text": [
      "      0  1  2  3  4  5  6  7  8  9\n",
      "0     0  0  1  0  1  1  0  0  1  0\n",
      "1     1  1  0  0  1  0  1  1  0  0\n",
      "2     0  1  1  0  0  0  1  1  1  0\n",
      "3     1  0  1  0  0  0  1  0  0  0\n",
      "4     1  0  1  0  1  0  0  0  0  1\n",
      "...  .. .. .. .. .. .. .. .. .. ..\n",
      "9995  0  0  1  0  0  1  1  0  0  1\n",
      "9996  1  0  0  0  0  1  1  0  1  1\n",
      "9997  0  0  0  1  0  1  0  1  0  1\n",
      "9998  1  0  0  1  1  1  0  0  1  1\n",
      "9999  0  0  0  0  1  1  1  1  1  1\n",
      "\n",
      "[10000 rows x 10 columns]\n"
     ]
    }
   ],
   "source": [
    "import pandas as pd\n",
    "import numpy as np\n",
    "\n",
    "training_data = pd.DataFrame(np.random.randint(0,high=2,size=(10000, 10)))\n",
    "print(training_data)"
   ]
  },
  {
   "cell_type": "code",
   "execution_count": 4,
   "metadata": {},
   "outputs": [
    {
     "name": "stdout",
     "output_type": "stream",
     "text": [
      "      person  bicycle  car  motorcycle  airplane  bus  train  truck  boat  \\\n",
      "0          0        0    1           0         1    1      0      0     1   \n",
      "1          1        1    0           0         1    0      1      1     0   \n",
      "2          0        1    1           0         0    0      1      1     1   \n",
      "3          1        0    1           0         0    0      1      0     0   \n",
      "4          1        0    1           0         1    0      0      0     0   \n",
      "...      ...      ...  ...         ...       ...  ...    ...    ...   ...   \n",
      "9995       0        0    1           0         0    1      1      0     0   \n",
      "9996       1        0    0           0         0    1      1      0     1   \n",
      "9997       0        0    0           1         0    1      0      1     0   \n",
      "9998       1        0    0           1         1    1      0      0     1   \n",
      "9999       0        0    0           0         1    1      1      1     1   \n",
      "\n",
      "      traffic light  \n",
      "0                 0  \n",
      "1                 0  \n",
      "2                 0  \n",
      "3                 0  \n",
      "4                 1  \n",
      "...             ...  \n",
      "9995              1  \n",
      "9996              1  \n",
      "9997              1  \n",
      "9998              1  \n",
      "9999              1  \n",
      "\n",
      "[10000 rows x 10 columns]\n"
     ]
    }
   ],
   "source": [
    "column_labels =  { # from https://docs.ultralytics.com/datasets/detect/coco/#dataset-yaml, It's the Yolo Dataset\n",
    "  0: \"person\",\n",
    "  1: \"bicycle\",\n",
    "  2: \"car\",\n",
    "  3: \"motorcycle\",\n",
    "  4: \"airplane\",\n",
    "  5: \"bus\",\n",
    "  6: \"train\",\n",
    "  7: \"truck\",\n",
    "  8: \"boat\",\n",
    "  9: \"traffic light\",\n",
    "}\n",
    "\n",
    "training_data.rename(columns=column_labels, inplace=True)\n",
    "print(training_data)"
   ]
  },
  {
   "cell_type": "code",
   "execution_count": 5,
   "metadata": {},
   "outputs": [
    {
     "name": "stdout",
     "output_type": "stream",
     "text": [
      "0\n"
     ]
    }
   ],
   "source": [
    "# check if all numbers are correct\n",
    "# TODO: What is the a pandas way?\n",
    "\n",
    "amount = 0\n",
    "\n",
    "for row in training_data:\n",
    "    for item in training_data[row]:\n",
    "        if item != 0:\n",
    "            if item != 1:\n",
    "                amount += 1\n",
    "\n",
    "print(amount)"
   ]
  },
  {
   "cell_type": "code",
   "execution_count": 13,
   "metadata": {},
   "outputs": [
    {
     "name": "stdout",
     "output_type": "stream",
     "text": [
      "10000\n",
      "      person  bicycle  car  motorcycle  airplane  bus  train  truck  boat  \\\n",
      "0          0        0    1           0         1    1      0      0     1   \n",
      "1          1        1    0           0         1    0      1      1     0   \n",
      "2          0        1    1           0         0    0      1      1     1   \n",
      "3          1        0    1           0         0    0      1      0     0   \n",
      "4          1        0    1           0         1    0      0      0     0   \n",
      "...      ...      ...  ...         ...       ...  ...    ...    ...   ...   \n",
      "9995       0        0    1           0         0    1      1      0     0   \n",
      "9996       1        0    0           0         0    1      1      0     1   \n",
      "9997       0        0    0           1         0    1      0      1     0   \n",
      "9998       1        0    0           1         1    1      0      0     1   \n",
      "9999       0        0    0           0         1    1      1      1     1   \n",
      "\n",
      "      traffic light Throw_or_Keep  \n",
      "0                 0           NaN  \n",
      "1                 0           NaN  \n",
      "2                 0           NaN  \n",
      "3                 0           NaN  \n",
      "4                 1           NaN  \n",
      "...             ...           ...  \n",
      "9995              1           NaN  \n",
      "9996              1           NaN  \n",
      "9997              1           NaN  \n",
      "9998              1           NaN  \n",
      "9999              1           NaN  \n",
      "\n",
      "[10000 rows x 11 columns]\n",
      "      person  bicycle  car  motorcycle  airplane  bus  train  truck  boat  \\\n",
      "0          0        0    1           0         1    1      0      0     1   \n",
      "1          1        1    0           0         1    0      1      1     0   \n",
      "2          0        1    1           0         0    0      1      1     1   \n",
      "3          1        0    1           0         0    0      1      0     0   \n",
      "4          1        0    1           0         1    0      0      0     0   \n",
      "...      ...      ...  ...         ...       ...  ...    ...    ...   ...   \n",
      "9995       0        0    1           0         0    1      1      0     0   \n",
      "9996       1        0    0           0         0    1      1      0     1   \n",
      "9997       0        0    0           1         0    1      0      1     0   \n",
      "9998       1        0    0           1         1    1      0      0     1   \n",
      "9999       0        0    0           0         1    1      1      1     1   \n",
      "\n",
      "      traffic light  \n",
      "0                 0  \n",
      "1                 0  \n",
      "2                 0  \n",
      "3                 0  \n",
      "4                 1  \n",
      "...             ...  \n",
      "9995              1  \n",
      "9996              1  \n",
      "9997              1  \n",
      "9998              1  \n",
      "9999              1  \n",
      "\n",
      "[10000 rows x 10 columns]\n"
     ]
    }
   ],
   "source": [
    "# Adding the answerous column, y. \n",
    "# signals: 1 = keep, 0 = delete\n",
    "\n",
    "# create the answer_column. For n\n",
    "# TODO: how to add headline at once?\n",
    "answers_column = pd.DataFrame(index=np.arange(10000), columns=np.arange(1))\n",
    "# print(len(answers_column))\n",
    "\n",
    "answers_column.rename(columns={0:\"Throw_or_Keep\"}, inplace=True) # TODO: Why is not tuple and list working for columns?\n",
    "# print(answers_column)\n",
    "\n",
    "training_data = training_data.join(answers_column) # TODO: Not persistent. What is the pandas way?\n",
    "print(training_data)\n",
    "\n"
   ]
  },
  {
   "cell_type": "code",
   "execution_count": 42,
   "metadata": {},
   "outputs": [
    {
     "name": "stdout",
     "output_type": "stream",
     "text": [
      "      person  bicycle  car  motorcycle  airplane  bus  train  truck  boat  \\\n",
      "0          0        0    1           0         1    1      0      0     1   \n",
      "1          1        1    0           0         1    0      1      1     0   \n",
      "2          0        1    1           0         0    0      1      1     1   \n",
      "3          1        0    1           0         0    0      1      0     0   \n",
      "4          1        0    1           0         1    0      0      0     0   \n",
      "...      ...      ...  ...         ...       ...  ...    ...    ...   ...   \n",
      "9995       0        0    1           0         0    1      1      0     0   \n",
      "9996       1        0    0           0         0    1      1      0     1   \n",
      "9997       0        0    0           1         0    1      0      1     0   \n",
      "9998       1        0    0           1         1    1      0      0     1   \n",
      "9999       0        0    0           0         1    1      1      1     1   \n",
      "\n",
      "      traffic light Throw_or_Keep  \n",
      "0                 0             0  \n",
      "1                 0             1  \n",
      "2                 0             1  \n",
      "3                 0             0  \n",
      "4                 1             0  \n",
      "...             ...           ...  \n",
      "9995              1             0  \n",
      "9996              1             0  \n",
      "9997              1             0  \n",
      "9998              1             0  \n",
      "9999              1             0  \n",
      "\n",
      "[10000 rows x 11 columns]\n"
     ]
    }
   ],
   "source": [
    "# calculate if all elements are present, giving a 0 or 1\n",
    "training_data.loc[(training_data['bicycle'] == 1) \n",
    "                  & (training_data['bicycle'] == 1) \n",
    "                  & (training_data['bicycle'] == 1),\n",
    "                  \"Throw_or_Keep\"] = 1\n",
    "\n",
    "training_data.loc[(training_data['bicycle'] != 1) \n",
    "                  & (training_data['bicycle'] != 1) \n",
    "                  & (training_data['bicycle'] != 1),\n",
    "                  \"Throw_or_Keep\"] = 0\n",
    "\n",
    "print(training_data)"
   ]
  },
  {
   "cell_type": "code",
   "execution_count": null,
   "metadata": {},
   "outputs": [],
   "source": []
  }
 ],
 "metadata": {
  "kernelspec": {
   "display_name": ".venv",
   "language": "python",
   "name": "python3"
  },
  "language_info": {
   "codemirror_mode": {
    "name": "ipython",
    "version": 3
   },
   "file_extension": ".py",
   "mimetype": "text/x-python",
   "name": "python",
   "nbconvert_exporter": "python",
   "pygments_lexer": "ipython3",
   "version": "3.12.3"
  }
 },
 "nbformat": 4,
 "nbformat_minor": 2
}
