{
 "cells": [
  {
   "cell_type": "code",
   "execution_count": 3,
   "metadata": {},
   "outputs": [
    {
     "name": "stdout",
     "output_type": "stream",
     "text": [
      "      0  1  2  3  4  5  6  7  8  9\n",
      "0     0  0  1  0  1  1  0  0  1  0\n",
      "1     1  1  0  0  1  0  1  1  0  0\n",
      "2     0  1  1  0  0  0  1  1  1  0\n",
      "3     1  0  1  0  0  0  1  0  0  0\n",
      "4     1  0  1  0  1  0  0  0  0  1\n",
      "...  .. .. .. .. .. .. .. .. .. ..\n",
      "9995  0  0  1  0  0  1  1  0  0  1\n",
      "9996  1  0  0  0  0  1  1  0  1  1\n",
      "9997  0  0  0  1  0  1  0  1  0  1\n",
      "9998  1  0  0  1  1  1  0  0  1  1\n",
      "9999  0  0  0  0  1  1  1  1  1  1\n",
      "\n",
      "[10000 rows x 10 columns]\n"
     ]
    }
   ],
   "source": [
    "import pandas as pd\n",
    "import numpy as np\n",
    "\n",
    "training_data = pd.DataFrame(np.random.randint(0,high=2,size=(10000, 10)))\n",
    "print(training_data)"
   ]
  },
  {
   "cell_type": "code",
   "execution_count": 4,
   "metadata": {},
   "outputs": [
    {
     "name": "stdout",
     "output_type": "stream",
     "text": [
      "      person  bicycle  car  motorcycle  airplane  bus  train  truck  boat  \\\n",
      "0          0        0    1           0         1    1      0      0     1   \n",
      "1          1        1    0           0         1    0      1      1     0   \n",
      "2          0        1    1           0         0    0      1      1     1   \n",
      "3          1        0    1           0         0    0      1      0     0   \n",
      "4          1        0    1           0         1    0      0      0     0   \n",
      "...      ...      ...  ...         ...       ...  ...    ...    ...   ...   \n",
      "9995       0        0    1           0         0    1      1      0     0   \n",
      "9996       1        0    0           0         0    1      1      0     1   \n",
      "9997       0        0    0           1         0    1      0      1     0   \n",
      "9998       1        0    0           1         1    1      0      0     1   \n",
      "9999       0        0    0           0         1    1      1      1     1   \n",
      "\n",
      "      traffic light  \n",
      "0                 0  \n",
      "1                 0  \n",
      "2                 0  \n",
      "3                 0  \n",
      "4                 1  \n",
      "...             ...  \n",
      "9995              1  \n",
      "9996              1  \n",
      "9997              1  \n",
      "9998              1  \n",
      "9999              1  \n",
      "\n",
      "[10000 rows x 10 columns]\n"
     ]
    }
   ],
   "source": [
    "column_labels =  { # from https://docs.ultralytics.com/datasets/detect/coco/#dataset-yaml, It's the Yolo Dataset\n",
    "  0: \"person\",\n",
    "  1: \"bicycle\",\n",
    "  2: \"car\",\n",
    "  3: \"motorcycle\",\n",
    "  4: \"airplane\",\n",
    "  5: \"bus\",\n",
    "  6: \"train\",\n",
    "  7: \"truck\",\n",
    "  8: \"boat\",\n",
    "  9: \"traffic light\",\n",
    "}\n",
    "\n",
    "training_data.rename(columns=column_labels, inplace=True)\n",
    "print(training_data)"
   ]
  },
  {
   "cell_type": "code",
   "execution_count": 5,
   "metadata": {},
   "outputs": [
    {
     "name": "stdout",
     "output_type": "stream",
     "text": [
      "0\n"
     ]
    }
   ],
   "source": [
    "# check if all numbers are correct\n",
    "# TODO: What is the a pandas way?\n",
    "\n",
    "amount = 0\n",
    "\n",
    "for row in training_data:\n",
    "    for item in training_data[row]:\n",
    "        if item != 0:\n",
    "            if item != 1:\n",
    "                amount += 1\n",
    "\n",
    "print(amount)"
   ]
  },
  {
   "cell_type": "code",
   "execution_count": 13,
   "metadata": {},
   "outputs": [
    {
     "name": "stdout",
     "output_type": "stream",
     "text": [
      "10000\n",
      "      person  bicycle  car  motorcycle  airplane  bus  train  truck  boat  \\\n",
      "0          0        0    1           0         1    1      0      0     1   \n",
      "1          1        1    0           0         1    0      1      1     0   \n",
      "2          0        1    1           0         0    0      1      1     1   \n",
      "3          1        0    1           0         0    0      1      0     0   \n",
      "4          1        0    1           0         1    0      0      0     0   \n",
      "...      ...      ...  ...         ...       ...  ...    ...    ...   ...   \n",
      "9995       0        0    1           0         0    1      1      0     0   \n",
      "9996       1        0    0           0         0    1      1      0     1   \n",
      "9997       0        0    0           1         0    1      0      1     0   \n",
      "9998       1        0    0           1         1    1      0      0     1   \n",
      "9999       0        0    0           0         1    1      1      1     1   \n",
      "\n",
      "      traffic light Throw_or_Keep  \n",
      "0                 0           NaN  \n",
      "1                 0           NaN  \n",
      "2                 0           NaN  \n",
      "3                 0           NaN  \n",
      "4                 1           NaN  \n",
      "...             ...           ...  \n",
      "9995              1           NaN  \n",
      "9996              1           NaN  \n",
      "9997              1           NaN  \n",
      "9998              1           NaN  \n",
      "9999              1           NaN  \n",
      "\n",
      "[10000 rows x 11 columns]\n",
      "      person  bicycle  car  motorcycle  airplane  bus  train  truck  boat  \\\n",
      "0          0        0    1           0         1    1      0      0     1   \n",
      "1          1        1    0           0         1    0      1      1     0   \n",
      "2          0        1    1           0         0    0      1      1     1   \n",
      "3          1        0    1           0         0    0      1      0     0   \n",
      "4          1        0    1           0         1    0      0      0     0   \n",
      "...      ...      ...  ...         ...       ...  ...    ...    ...   ...   \n",
      "9995       0        0    1           0         0    1      1      0     0   \n",
      "9996       1        0    0           0         0    1      1      0     1   \n",
      "9997       0        0    0           1         0    1      0      1     0   \n",
      "9998       1        0    0           1         1    1      0      0     1   \n",
      "9999       0        0    0           0         1    1      1      1     1   \n",
      "\n",
      "      traffic light  \n",
      "0                 0  \n",
      "1                 0  \n",
      "2                 0  \n",
      "3                 0  \n",
      "4                 1  \n",
      "...             ...  \n",
      "9995              1  \n",
      "9996              1  \n",
      "9997              1  \n",
      "9998              1  \n",
      "9999              1  \n",
      "\n",
      "[10000 rows x 10 columns]\n"
     ]
    }
   ],
   "source": [
    "# Adding the answerous column, y. \n",
    "# signals: 1 = keep, 0 = delete\n",
    "\n",
    "# create the answer_column. For n\n",
    "# TODO: how to add headline at once?\n",
    "answers_column = pd.DataFrame(index=np.arange(10000), columns=np.arange(1))\n",
    "# print(len(answers_column))\n",
    "\n",
    "answers_column.rename(columns={0:\"Throw_or_Keep\"}, inplace=True) # TODO: Why is not tuple and list working for columns?\n",
    "# print(answers_column)\n",
    "\n",
    "training_data = training_data.join(answers_column) # TODO: Not persistent. What is the pandas way?\n",
    "print(training_data)\n",
    "\n"
   ]
  },
  {
   "cell_type": "code",
   "execution_count": 14,
   "metadata": {},
   "outputs": [
    {
     "ename": "InvalidIndexError",
     "evalue": "('person', slice(0, 2, None))",
     "output_type": "error",
     "traceback": [
      "\u001b[0;31m---------------------------------------------------------------------------\u001b[0m",
      "\u001b[0;31mKeyError\u001b[0m                                  Traceback (most recent call last)",
      "File \u001b[0;32m~/utbildning/data24hel/kurser/data_science/code/inlämning/uppgift_3/prepWork_different_pics/.venv/lib/python3.12/site-packages/pandas/core/indexes/base.py:3805\u001b[0m, in \u001b[0;36mIndex.get_loc\u001b[0;34m(self, key)\u001b[0m\n\u001b[1;32m   3804\u001b[0m \u001b[38;5;28;01mtry\u001b[39;00m:\n\u001b[0;32m-> 3805\u001b[0m     \u001b[38;5;28;01mreturn\u001b[39;00m \u001b[38;5;28;43mself\u001b[39;49m\u001b[38;5;241;43m.\u001b[39;49m\u001b[43m_engine\u001b[49m\u001b[38;5;241;43m.\u001b[39;49m\u001b[43mget_loc\u001b[49m\u001b[43m(\u001b[49m\u001b[43mcasted_key\u001b[49m\u001b[43m)\u001b[49m\n\u001b[1;32m   3806\u001b[0m \u001b[38;5;28;01mexcept\u001b[39;00m \u001b[38;5;167;01mKeyError\u001b[39;00m \u001b[38;5;28;01mas\u001b[39;00m err:\n",
      "File \u001b[0;32mindex.pyx:167\u001b[0m, in \u001b[0;36mpandas._libs.index.IndexEngine.get_loc\u001b[0;34m()\u001b[0m\n",
      "File \u001b[0;32mindex.pyx:196\u001b[0m, in \u001b[0;36mpandas._libs.index.IndexEngine.get_loc\u001b[0;34m()\u001b[0m\n",
      "File \u001b[0;32mpandas/_libs/hashtable_class_helper.pxi:7081\u001b[0m, in \u001b[0;36mpandas._libs.hashtable.PyObjectHashTable.get_item\u001b[0;34m()\u001b[0m\n",
      "File \u001b[0;32mpandas/_libs/hashtable_class_helper.pxi:7089\u001b[0m, in \u001b[0;36mpandas._libs.hashtable.PyObjectHashTable.get_item\u001b[0;34m()\u001b[0m\n",
      "\u001b[0;31mKeyError\u001b[0m: ('person', slice(0, 2, None))",
      "\nDuring handling of the above exception, another exception occurred:\n",
      "\u001b[0;31mInvalidIndexError\u001b[0m                         Traceback (most recent call last)",
      "Cell \u001b[0;32mIn[14], line 3\u001b[0m\n\u001b[1;32m      1\u001b[0m \u001b[38;5;66;03m# calculate if all elements are present, giving a 0 or 1\u001b[39;00m\n\u001b[1;32m      2\u001b[0m \u001b[38;5;28;01mfor\u001b[39;00m row \u001b[38;5;129;01min\u001b[39;00m training_data:\n\u001b[0;32m----> 3\u001b[0m     \u001b[38;5;28;01mif\u001b[39;00m \u001b[43mtraining_data\u001b[49m\u001b[43m[\u001b[49m\u001b[43mrow\u001b[49m\u001b[43m,\u001b[49m\u001b[38;5;241;43m0\u001b[39;49m\u001b[43m:\u001b[49m\u001b[38;5;241;43m2\u001b[39;49m\u001b[43m]\u001b[49m \u001b[38;5;241m==\u001b[39m \u001b[38;5;241m1\u001b[39m:\n\u001b[1;32m      4\u001b[0m         training_data[\u001b[38;5;124m\"\u001b[39m\u001b[38;5;124mThrow_or_Keep\u001b[39m\u001b[38;5;124m\"\u001b[39m] \u001b[38;5;241m=\u001b[39m \u001b[38;5;124m\"\u001b[39m\u001b[38;5;124mThursday\u001b[39m\u001b[38;5;124m\"\u001b[39m\n",
      "File \u001b[0;32m~/utbildning/data24hel/kurser/data_science/code/inlämning/uppgift_3/prepWork_different_pics/.venv/lib/python3.12/site-packages/pandas/core/frame.py:4102\u001b[0m, in \u001b[0;36mDataFrame.__getitem__\u001b[0;34m(self, key)\u001b[0m\n\u001b[1;32m   4100\u001b[0m \u001b[38;5;28;01mif\u001b[39;00m \u001b[38;5;28mself\u001b[39m\u001b[38;5;241m.\u001b[39mcolumns\u001b[38;5;241m.\u001b[39mnlevels \u001b[38;5;241m>\u001b[39m \u001b[38;5;241m1\u001b[39m:\n\u001b[1;32m   4101\u001b[0m     \u001b[38;5;28;01mreturn\u001b[39;00m \u001b[38;5;28mself\u001b[39m\u001b[38;5;241m.\u001b[39m_getitem_multilevel(key)\n\u001b[0;32m-> 4102\u001b[0m indexer \u001b[38;5;241m=\u001b[39m \u001b[38;5;28;43mself\u001b[39;49m\u001b[38;5;241;43m.\u001b[39;49m\u001b[43mcolumns\u001b[49m\u001b[38;5;241;43m.\u001b[39;49m\u001b[43mget_loc\u001b[49m\u001b[43m(\u001b[49m\u001b[43mkey\u001b[49m\u001b[43m)\u001b[49m\n\u001b[1;32m   4103\u001b[0m \u001b[38;5;28;01mif\u001b[39;00m is_integer(indexer):\n\u001b[1;32m   4104\u001b[0m     indexer \u001b[38;5;241m=\u001b[39m [indexer]\n",
      "File \u001b[0;32m~/utbildning/data24hel/kurser/data_science/code/inlämning/uppgift_3/prepWork_different_pics/.venv/lib/python3.12/site-packages/pandas/core/indexes/base.py:3811\u001b[0m, in \u001b[0;36mIndex.get_loc\u001b[0;34m(self, key)\u001b[0m\n\u001b[1;32m   3806\u001b[0m \u001b[38;5;28;01mexcept\u001b[39;00m \u001b[38;5;167;01mKeyError\u001b[39;00m \u001b[38;5;28;01mas\u001b[39;00m err:\n\u001b[1;32m   3807\u001b[0m     \u001b[38;5;28;01mif\u001b[39;00m \u001b[38;5;28misinstance\u001b[39m(casted_key, \u001b[38;5;28mslice\u001b[39m) \u001b[38;5;129;01mor\u001b[39;00m (\n\u001b[1;32m   3808\u001b[0m         \u001b[38;5;28misinstance\u001b[39m(casted_key, abc\u001b[38;5;241m.\u001b[39mIterable)\n\u001b[1;32m   3809\u001b[0m         \u001b[38;5;129;01mand\u001b[39;00m \u001b[38;5;28many\u001b[39m(\u001b[38;5;28misinstance\u001b[39m(x, \u001b[38;5;28mslice\u001b[39m) \u001b[38;5;28;01mfor\u001b[39;00m x \u001b[38;5;129;01min\u001b[39;00m casted_key)\n\u001b[1;32m   3810\u001b[0m     ):\n\u001b[0;32m-> 3811\u001b[0m         \u001b[38;5;28;01mraise\u001b[39;00m InvalidIndexError(key)\n\u001b[1;32m   3812\u001b[0m     \u001b[38;5;28;01mraise\u001b[39;00m \u001b[38;5;167;01mKeyError\u001b[39;00m(key) \u001b[38;5;28;01mfrom\u001b[39;00m\u001b[38;5;250m \u001b[39m\u001b[38;5;21;01merr\u001b[39;00m\n\u001b[1;32m   3813\u001b[0m \u001b[38;5;28;01mexcept\u001b[39;00m \u001b[38;5;167;01mTypeError\u001b[39;00m:\n\u001b[1;32m   3814\u001b[0m     \u001b[38;5;66;03m# If we have a listlike key, _check_indexing_error will raise\u001b[39;00m\n\u001b[1;32m   3815\u001b[0m     \u001b[38;5;66;03m#  InvalidIndexError. Otherwise we fall through and re-raise\u001b[39;00m\n\u001b[1;32m   3816\u001b[0m     \u001b[38;5;66;03m#  the TypeError.\u001b[39;00m\n",
      "\u001b[0;31mInvalidIndexError\u001b[0m: ('person', slice(0, 2, None))"
     ]
    }
   ],
   "source": [
    "# calculate if all elements are present, giving a 0 or 1\n",
    "for row in training_data:\n",
    "    if training_data[row,0:2] == 1:\n",
    "        training_data[\"Throw_or_Keep\"] = \"Thursday\"\n",
    "\n",
    "print(training_data)"
   ]
  }
 ],
 "metadata": {
  "kernelspec": {
   "display_name": ".venv",
   "language": "python",
   "name": "python3"
  },
  "language_info": {
   "codemirror_mode": {
    "name": "ipython",
    "version": 3
   },
   "file_extension": ".py",
   "mimetype": "text/x-python",
   "name": "python",
   "nbconvert_exporter": "python",
   "pygments_lexer": "ipython3",
   "version": "3.12.3"
  }
 },
 "nbformat": 4,
 "nbformat_minor": 2
}
